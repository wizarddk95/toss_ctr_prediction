{
 "cells": [
  {
   "cell_type": "code",
   "execution_count": 1,
   "id": "673d674e",
   "metadata": {},
   "outputs": [],
   "source": [
    "import pandas as pd\n",
    "import numpy as np"
   ]
  },
  {
   "cell_type": "code",
   "execution_count": 2,
   "id": "aaaf39b0",
   "metadata": {},
   "outputs": [
    {
     "name": "stdout",
     "output_type": "stream",
     "text": [
      "Train shape: (10704179, 119)\n",
      "Test shape: (1527298, 118)\n"
     ]
    }
   ],
   "source": [
    "# 데이터 로드\n",
    "all_train = pd.read_parquet(\"./data/train.parquet\", engine=\"pyarrow\")\n",
    "test = pd.read_parquet(\"./data/test.parquet\", engine=\"pyarrow\").drop(columns=['ID'])\n",
    "\n",
    "print(\"Train shape:\", all_train.shape)\n",
    "print(\"Test shape:\", test.shape)"
   ]
  },
  {
   "cell_type": "code",
   "execution_count": 3,
   "id": "279774e0",
   "metadata": {},
   "outputs": [
    {
     "name": "stdout",
     "output_type": "stream",
     "text": [
      "<class 'pandas.core.frame.DataFrame'>\n",
      "RangeIndex: 10704179 entries, 0 to 10704178\n",
      "Columns: 119 entries, gender to clicked\n",
      "dtypes: float32(112), int32(1), object(6)\n",
      "memory usage: 5.0+ GB\n"
     ]
    }
   ],
   "source": [
    "# 기존 테이블\n",
    "all_train.info()"
   ]
  },
  {
   "cell_type": "code",
   "execution_count": 4,
   "id": "fd2b8bd5",
   "metadata": {},
   "outputs": [
    {
     "name": "stdout",
     "output_type": "stream",
     "text": [
      "<class 'pandas.core.frame.DataFrame'>\n",
      "RangeIndex: 1527298 entries, 0 to 1527297\n",
      "Columns: 118 entries, gender to history_b_30\n",
      "dtypes: float32(112), object(6)\n",
      "memory usage: 722.4+ MB\n"
     ]
    }
   ],
   "source": [
    "test.info()"
   ]
  },
  {
   "cell_type": "markdown",
   "id": "e7386e0f",
   "metadata": {},
   "source": [
    "### 메모리 사용량 최적화 (Data Type Downcasting)"
   ]
  },
  {
   "cell_type": "code",
   "execution_count": 5,
   "id": "b9ad524c",
   "metadata": {},
   "outputs": [
    {
     "name": "stdout",
     "output_type": "stream",
     "text": [
      "Loading train data...\n",
      "Mem. usage decreased to 2827.70 Mb (44.6% reduction)\n",
      "\n",
      "Loading test data...\n",
      "Mem. usage decreased to 402.01 Mb (44.4% reduction)\n"
     ]
    }
   ],
   "source": [
    "def reduce_mem_usage(df, verbose=True):\n",
    "    \"\"\"\n",
    "    데이터프레임의 메모리 사용량을 줄이는 함수.\n",
    "    \n",
    "    Args:\n",
    "        df (pd.DataFrame): 최적화할 데이터프레임\n",
    "        verbose (bool): 최적화 과정 및 결과를 출력할지 여부\n",
    "        \n",
    "    Returns:\n",
    "        pd.DataFrame: 메모리 사용량이 최적화된 데이터프레임\n",
    "    \"\"\"\n",
    "    numerics = ['int16', 'int32', 'int64', 'float16', 'float32', 'float64']\n",
    "    start_mem = df.memory_usage().sum() / 1024**2\n",
    "    \n",
    "    for col in df.columns:\n",
    "        col_type = df[col].dtypes\n",
    "        if col_type in numerics:\n",
    "            c_min = df[col].min()\n",
    "            c_max = df[col].max()\n",
    "            if str(col_type)[:3] == 'int':\n",
    "                # 정수형 타입 다운캐스팅\n",
    "                if c_min > np.iinfo(np.int8).min and c_max < np.iinfo(np.int8).max:\n",
    "                    df[col] = df[col].astype(np.int8)\n",
    "                elif c_min > np.iinfo(np.int16).min and c_max < np.iinfo(np.int16).max:\n",
    "                    df[col] = df[col].astype(np.int16)\n",
    "                elif c_min > np.iinfo(np.int32).min and c_max < np.iinfo(np.int32).max:\n",
    "                    df[col] = df[col].astype(np.int32)\n",
    "                elif c_min > np.iinfo(np.int64).min and c_max < np.iinfo(np.int64).max:\n",
    "                    df[col] = df[col].astype(np.int64)\n",
    "            else:\n",
    "                # 실수형 타입 다운캐스팅\n",
    "                if c_min > np.finfo(np.float16).min and c_max < np.finfo(np.float16).max:\n",
    "                    df[col] = df[col].astype(np.float16)\n",
    "                elif c_min > np.finfo(np.float32).min and c_max < np.finfo(np.float32).max:\n",
    "                    df[col] = df[col].astype(np.float32)\n",
    "                else:\n",
    "                    df[col] = df[col].astype(np.float64)\n",
    "                    \n",
    "    end_mem = df.memory_usage().sum() / 1024**2\n",
    "    if verbose:\n",
    "        print(f'Mem. usage decreased to {end_mem:5.2f} Mb ({100 * (start_mem - end_mem) / start_mem:.1f}% reduction)')\n",
    "    return df\n",
    "\n",
    "# --- 데이터 로드 및 최적화 실행 ---\n",
    "print(\"Loading train data...\")\n",
    "train_df = reduce_mem_usage(all_train)\n",
    "\n",
    "print(\"\\nLoading test data...\")\n",
    "test_df = reduce_mem_usage(test)"
   ]
  },
  {
   "cell_type": "code",
   "execution_count": 6,
   "id": "9f96580e",
   "metadata": {},
   "outputs": [],
   "source": [
    "# 최적화된 데이터프레임을 새로운 Parquet 파일로 저장\n",
    "train_df.to_parquet('./data/train_optimized.parquet', index=False)\n",
    "test_df.to_parquet('./data/test_optimized.parquet', index=False)"
   ]
  }
 ],
 "metadata": {
  "kernelspec": {
   "display_name": ".venv",
   "language": "python",
   "name": "python3"
  },
  "language_info": {
   "codemirror_mode": {
    "name": "ipython",
    "version": 3
   },
   "file_extension": ".py",
   "mimetype": "text/x-python",
   "name": "python",
   "nbconvert_exporter": "python",
   "pygments_lexer": "ipython3",
   "version": "3.11.9"
  }
 },
 "nbformat": 4,
 "nbformat_minor": 5
}
